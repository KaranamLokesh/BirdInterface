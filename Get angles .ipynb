{
 "cells": [
  {
   "cell_type": "code",
   "execution_count": 1,
   "metadata": {},
   "outputs": [],
   "source": [
    "import pandas as pd\n",
    "import matplotlib.pyplot as plt\n",
    "import io\n",
    "import glob\n",
    "from PIL import Image\n",
    "from PIL.ExifTags import TAGS, GPSTAGS\n",
    "import numpy as np\n",
    "import re"
   ]
  },
  {
   "cell_type": "markdown",
   "metadata": {},
   "source": [
    "## Change to your directory holding all the images "
   ]
  },
  {
   "cell_type": "code",
   "execution_count": 2,
   "metadata": {},
   "outputs": [],
   "source": [
    "image6Directory = '/Users/spsither/Desktop/MS Thesis/GrandPass_Jan08/Images6/'"
   ]
  },
  {
   "cell_type": "code",
   "execution_count": 3,
   "metadata": {},
   "outputs": [],
   "source": [
    "imageFiles = glob.glob(image6Directory + r'*.JPG')\n",
    "imageFiles.sort()"
   ]
  },
  {
   "cell_type": "code",
   "execution_count": 7,
   "metadata": {},
   "outputs": [
    {
     "name": "stdout",
     "output_type": "stream",
     "text": [
      "Image file name:  /Users/spsither/Desktop/MS Thesis/GrandPass_Jan08/Images6/F1_DJI_0109.JPG\n",
      "Latitude and Longitude of the image:  (39.30295294444444, -93.32649124999999)\n",
      "Date time of the image:  2021:01:08 12:50:32\n",
      "Gimbal degree (Yaw, Pitch, Roll):  [827.0, -899.0, 0.0]\n",
      "Drone degree (Yaw, Pitch, Roll):  [867.0, 4.0, -58.0]\n"
     ]
    }
   ],
   "source": [
    "import sys\n",
    "\n",
    "from PIL import Image\n",
    "from PIL.ExifTags import TAGS, GPSTAGS\n",
    "\n",
    "def get_exif_data(image):\n",
    "    \"\"\"Returns a dictionary from the exif data of an PIL Image item. Also converts the GPS Tags\"\"\"\n",
    "    exif_data = {}\n",
    "    info = image._getexif()\n",
    "    if info:\n",
    "        for tag, value in info.items():\n",
    "            decoded = TAGS.get(tag, tag)\n",
    "            if decoded == \"GPSInfo\":\n",
    "                gps_data = {}\n",
    "                for gps_tag in value:\n",
    "                    sub_decoded = GPSTAGS.get(gps_tag, gps_tag)\n",
    "                    gps_data[sub_decoded] = value[gps_tag]\n",
    "\n",
    "                exif_data[decoded] = gps_data\n",
    "            else:\n",
    "                exif_data[decoded] = value\n",
    "\n",
    "    return exif_data\n",
    "\n",
    "def _convert_to_degree(value):\n",
    "    \"\"\"Helper function to convert the GPS coordinates stored in the a to degress in float format\"\"\"\n",
    "    d = value[0]\n",
    "    m = value[1]\n",
    "    s = value[2]\n",
    "    return d + (m / 60.0) + (s / 3600.0)\n",
    "\n",
    "def get_lat_lon(exif_data):\n",
    "    \"\"\"Returns the latitude and longitude, if available, from the provided exif_data (obtained through get_exif_data above)\"\"\"\n",
    "    lat = None\n",
    "    lon = None\n",
    "\n",
    "    if \"GPSInfo\" in exif_data:\n",
    "        gps_info = exif_data[\"GPSInfo\"]\n",
    "\n",
    "        gps_latitude = gps_info.get(\"GPSLatitude\")\n",
    "        gps_latitude_ref = gps_info.get('GPSLatitudeRef')\n",
    "        gps_longitude = gps_info.get('GPSLongitude')\n",
    "        gps_longitude_ref = gps_info.get('GPSLongitudeRef')\n",
    "\n",
    "        if gps_latitude and gps_latitude_ref and gps_longitude and gps_longitude_ref:\n",
    "            lat = _convert_to_degree(gps_latitude)\n",
    "            if gps_latitude_ref != \"N\":                     \n",
    "                lat *= -1\n",
    "\n",
    "            lon = _convert_to_degree(gps_longitude)\n",
    "            if gps_longitude_ref != \"E\":\n",
    "                lon *= -1\n",
    "\n",
    "    return lat, lon\n",
    "def get_date_time(exif_data):\n",
    "    date_time = None\n",
    "    if \"DateTime\" in exif_data:\n",
    "        date_time = exif_data[\"DateTime\"]\n",
    "    return date_time\n",
    "\n",
    "def get_gimbal_degree(exif_data):\n",
    "    gimbal_degree = None\n",
    "    if \"MakerNote\" in exif_data:\n",
    "        makerNote = str(exif_data[\"MakerNote\"])\n",
    "        matchGimbalDeg = re.search( r'GimbalDegree\\(Y,P,R\\):([-+]?\\d*),([-+]?\\d*),([-+]?\\d*)', makerNote)\n",
    "        if matchGimbalDeg:\n",
    "            gimbal_degree = matchGimbalDeg.group(1),matchGimbalDeg.group(2),matchGimbalDeg.group(3)\n",
    "            gimbal_degree = list(map(float, gimbal_degree))\n",
    "    return gimbal_degree\n",
    "\n",
    "def get_flight_degree(exif_data):\n",
    "    flight_degree = None\n",
    "    if \"MakerNote\" in exif_data:\n",
    "        makerNote = str(exif_data[\"MakerNote\"])\n",
    "        matchFlightDeg = re.search( r'FlightDegree\\(Y,P,R\\):([-+]?\\d*),([-+]?\\d*),([-+]?\\d*)', makerNote)\n",
    "        if matchFlightDeg:            \n",
    "            flight_degree = matchFlightDeg.group(1),matchFlightDeg.group(2),matchFlightDeg.group(3)\n",
    "            flight_degree = list(map(float, flight_degree))\n",
    "    return flight_degree\n",
    "\n",
    "\n",
    "################\n",
    "# Example ######\n",
    "################\n",
    "\n",
    "# load an image through PIL's Image object\n",
    "\n",
    "image = Image.open(imageFiles[0])\n",
    "exif_data = get_exif_data(image)\n",
    "print('Image file name: ',imageFiles[0])\n",
    "print('Latitude and Longitude of the image: ', get_lat_lon(exif_data))\n",
    "print('Date time of the image: ', get_date_time(exif_data))\n",
    "print('Gimbal degree (Yaw, Pitch, Roll): ', get_gimbal_degree(exif_data))\n",
    "print('Drone degree (Yaw, Pitch, Roll): ',get_flight_degree(exif_data))"
   ]
  },
  {
   "cell_type": "code",
   "execution_count": null,
   "metadata": {},
   "outputs": [],
   "source": []
  }
 ],
 "metadata": {
  "kernelspec": {
   "display_name": "Python 3",
   "language": "python",
   "name": "python3"
  },
  "language_info": {
   "codemirror_mode": {
    "name": "ipython",
    "version": 3
   },
   "file_extension": ".py",
   "mimetype": "text/x-python",
   "name": "python",
   "nbconvert_exporter": "python",
   "pygments_lexer": "ipython3",
   "version": "3.8.5"
  }
 },
 "nbformat": 4,
 "nbformat_minor": 4
}
